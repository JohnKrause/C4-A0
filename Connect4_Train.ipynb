{
 "cells": [
  {
   "cell_type": "code",
   "execution_count": null,
   "metadata": {
    "scrolled": false
   },
   "outputs": [
    {
     "name": "stderr",
     "output_type": "stream",
     "text": [
      "Using TensorFlow backend.\n"
     ]
    },
    {
     "name": "stdout",
     "output_type": "stream",
     "text": [
      "treeHandler-1\n",
      "treeHandler-3\n",
      "treeHandler-2\n",
      "treeHandler-4\n",
      "treeHandler-5\n",
      "treeHandler-8\n",
      "treeHandler-7\n",
      "treeHandler-9\n",
      "treeHandler-6\n",
      "treeHandler-10\n",
      "treeHandler-12\n",
      "treeHandler-11\n",
      "treeHandler-13\n",
      "treeHandler-14\n",
      "treeHandler-16\n",
      "treeHandler-15\n",
      "treeHandler-18\n",
      "treeHandler-17\n",
      "treeHandler-19\n",
      "treeHandler-21\n",
      "treeHandler-20\n",
      "treeHandler-22\n",
      "treeHandler-23\n",
      "treeHandler-24\n",
      "treeHandler-25\n",
      "treeHandler-26\n",
      "treeHandler-27\n",
      "treeHandler-28\n",
      "treeHandler-29\n",
      "treeHandler-30\n",
      "treeHandler-31\n",
      "Beginning Generation: 0\n",
      "NN exporting:['bill', 'BackupV6.h5', <multiprocessing.connection.Connection object at 0x7efe63499978>]\n",
      "NN Loading:['adam', 'BackupV6.h5', <multiprocessing.connection.Connection object at 0x7efe63499978>]\n"
     ]
    }
   ],
   "source": [
    "import train as t\n",
    "import importlib\n",
    "trainConfig = {\n",
    "        'num_generations':50,\n",
    "        'num_games_generation':500,\n",
    "        'num_games_trial':100,\n",
    "        'exploreInit':2,\n",
    "        'exploreDecay_Move':0.85,\n",
    "        'exploreDecay_Game':0.7,\n",
    "        'num_gamePlayers':30,\n",
    "        'num_sim':300,\n",
    "        'num_trainingSamples':4000,\n",
    "        'val_priorNoise':0.14\n",
    "            }\n",
    "\n",
    "t.train(trainConfig)"
   ]
  },
  {
   "cell_type": "code",
   "execution_count": null,
   "metadata": {},
   "outputs": [],
   "source": []
  },
  {
   "cell_type": "code",
   "execution_count": null,
   "metadata": {},
   "outputs": [],
   "source": []
  },
  {
   "cell_type": "code",
   "execution_count": null,
   "metadata": {},
   "outputs": [],
   "source": []
  },
  {
   "cell_type": "code",
   "execution_count": null,
   "metadata": {},
   "outputs": [],
   "source": []
  },
  {
   "cell_type": "code",
   "execution_count": null,
   "metadata": {},
   "outputs": [],
   "source": []
  },
  {
   "cell_type": "code",
   "execution_count": null,
   "metadata": {},
   "outputs": [],
   "source": []
  },
  {
   "cell_type": "code",
   "execution_count": null,
   "metadata": {},
   "outputs": [],
   "source": []
  }
 ],
 "metadata": {
  "kernelspec": {
   "display_name": "Python 3",
   "language": "python",
   "name": "python3"
  },
  "language_info": {
   "codemirror_mode": {
    "name": "ipython",
    "version": 3
   },
   "file_extension": ".py",
   "mimetype": "text/x-python",
   "name": "python",
   "nbconvert_exporter": "python",
   "pygments_lexer": "ipython3",
   "version": "3.6.3"
  }
 },
 "nbformat": 4,
 "nbformat_minor": 2
}
